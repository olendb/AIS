{
 "cells": [
  {
   "cell_type": "code",
   "execution_count": 142,
   "id": "fbe5bae8",
   "metadata": {},
   "outputs": [],
   "source": [
    "from tensorflow.keras.datasets import mnist\n",
    "(train_images, train_labels), (test_images, test_labels)= mnist.load_data()"
   ]
  },
  {
   "cell_type": "code",
   "execution_count": 4,
   "id": "8c724279",
   "metadata": {},
   "outputs": [
    {
     "name": "stdout",
     "output_type": "stream",
     "text": [
      "2.11.0\n"
     ]
    }
   ],
   "source": [
    "import tensorflow as tf\n",
    "print(tf.__version__)"
   ]
  },
  {
   "cell_type": "code",
   "execution_count": 143,
   "id": "fb98421f",
   "metadata": {},
   "outputs": [
    {
     "data": {
      "text/plain": [
       "(60000, 28, 28)"
      ]
     },
     "execution_count": 143,
     "metadata": {},
     "output_type": "execute_result"
    }
   ],
   "source": [
    "train_images.shape"
   ]
  },
  {
   "cell_type": "code",
   "execution_count": 144,
   "id": "998e2139",
   "metadata": {},
   "outputs": [
    {
     "data": {
      "text/plain": [
       "60000"
      ]
     },
     "execution_count": 144,
     "metadata": {},
     "output_type": "execute_result"
    }
   ],
   "source": [
    "len(train_labels)"
   ]
  },
  {
   "cell_type": "code",
   "execution_count": 145,
   "id": "34ba00fd",
   "metadata": {},
   "outputs": [
    {
     "name": "stdout",
     "output_type": "stream",
     "text": [
      "(60000, 28, 28)\n",
      "(10000, 28, 28)\n"
     ]
    }
   ],
   "source": [
    "(x_train,_),(x_test,_)= mnist.load_data()\n",
    "\n",
    "x_train = x_train.astype('float32')/255 # 손 글씨니깐 RGB값 때문에 255로 나눔\n",
    "x_test = x_test.astype('float32')/255\n",
    "\n",
    "print(x_train.shape)\n",
    "print(x_test.shape)"
   ]
  },
  {
   "cell_type": "code",
   "execution_count": 146,
   "id": "17c74316",
   "metadata": {},
   "outputs": [],
   "source": [
    "from tensorflow.keras.models import Sequential\n",
    "from tensorflow.keras.layers import Dense,RepeatVector, TimeDistributed"
   ]
  },
  {
   "cell_type": "code",
   "execution_count": 147,
   "id": "d2b3e8ea",
   "metadata": {},
   "outputs": [],
   "source": [
    "from tensorflow.keras.callbacks import EarlyStopping,ModelCheckpoint\n",
    "from tensorflow.keras.layers import LSTM\n",
    "from tensorflow.keras import Model\n",
    "from tensorflow.keras.layers import Activation\n",
    "from tensorflow.keras import models, layers"
   ]
  },
  {
   "cell_type": "code",
   "execution_count": 148,
   "id": "0ec0f3d2",
   "metadata": {},
   "outputs": [],
   "source": [
    "class Mish(Activation):\n",
    "    def __init__(self, activation, **kwargs):\n",
    "        super(Mish, self).__init__(activation, **kwargs)\n",
    "        self.__name__ = 'mish'\n",
    "        \n",
    "def mish(x):\n",
    "    return x * tf.math.tanh(tf.math.softplus(x))\n",
    "\n",
    "# 사용자 정의 활성화 함수 등록\n",
    "tf.keras.utils.get_custom_objects()['mish'] = Mish(mish)\n",
    "\n",
    "\n",
    "\n",
    "\n",
    "class Autoencoder(tf.keras.Model):\n",
    "    def __init__(self, encoding_dim):\n",
    "        super(Autoencoder, self). __init__()\n",
    "        self.encoder=tf.keras.Sequential([\n",
    "            tf.keras.layers.Flatten(input_shape=(28, 28)),\n",
    "            tf.keras.layers.Dense(128, activation='mish'),\n",
    "            tf.keras.layers.Dense(64, activation='mish'),\n",
    "            tf.keras.layers.Dense(32, activation='mish'),\n",
    "        ])\n",
    "        self.decoder=tf.keras.Sequential([\n",
    "        tf.keras.layers.Dense(32, activation='mish'),\n",
    "        tf.keras.layers.Dense(64, activation='mish'),\n",
    "        tf.keras.layers.Dense(128, activation='mish'),\n",
    "        tf.keras.layers.Dense(784, activation='sigmoid'),\n",
    "        tf.keras.layers.Reshape((28,28))\n",
    "        ])\n",
    "    def call(self,x):\n",
    "        encoded = self.encoder(x)\n",
    "        decoded = self.decoder(encoded)\n",
    "        return decoded\n",
    "    \n",
    "autoencoder = Autoencoder(32)"
   ]
  },
  {
   "cell_type": "code",
   "execution_count": 149,
   "id": "da7f0b96",
   "metadata": {},
   "outputs": [
    {
     "name": "stdout",
     "output_type": "stream",
     "text": [
      "Epoch 1/150\n",
      "235/235 [==============================] - 3s 7ms/step - loss: 0.0661 - mse: 0.0661 - accuracy: 0.0970 - val_loss: 0.0422 - val_mse: 0.0422 - val_accuracy: 0.1451\n",
      "Epoch 2/150\n",
      "235/235 [==============================] - 1s 6ms/step - loss: 0.0361 - mse: 0.0361 - accuracy: 0.1668 - val_loss: 0.0317 - val_mse: 0.0317 - val_accuracy: 0.1815\n",
      "Epoch 3/150\n",
      "235/235 [==============================] - 1s 6ms/step - loss: 0.0292 - mse: 0.0292 - accuracy: 0.1962 - val_loss: 0.0266 - val_mse: 0.0266 - val_accuracy: 0.2020\n",
      "Epoch 4/150\n",
      "235/235 [==============================] - 1s 6ms/step - loss: 0.0255 - mse: 0.0255 - accuracy: 0.2109 - val_loss: 0.0238 - val_mse: 0.0238 - val_accuracy: 0.2145\n",
      "Epoch 5/150\n",
      "235/235 [==============================] - 1s 6ms/step - loss: 0.0227 - mse: 0.0227 - accuracy: 0.2218 - val_loss: 0.0208 - val_mse: 0.0208 - val_accuracy: 0.2269\n",
      "Epoch 6/150\n",
      "235/235 [==============================] - 2s 6ms/step - loss: 0.0200 - mse: 0.0200 - accuracy: 0.2329 - val_loss: 0.0186 - val_mse: 0.0186 - val_accuracy: 0.2357\n",
      "Epoch 7/150\n",
      "235/235 [==============================] - 2s 6ms/step - loss: 0.0184 - mse: 0.0184 - accuracy: 0.2402 - val_loss: 0.0174 - val_mse: 0.0174 - val_accuracy: 0.2388\n",
      "Epoch 8/150\n",
      "235/235 [==============================] - 1s 6ms/step - loss: 0.0173 - mse: 0.0173 - accuracy: 0.2457 - val_loss: 0.0164 - val_mse: 0.0164 - val_accuracy: 0.2480\n",
      "Epoch 9/150\n",
      "235/235 [==============================] - 1s 6ms/step - loss: 0.0163 - mse: 0.0163 - accuracy: 0.2499 - val_loss: 0.0156 - val_mse: 0.0156 - val_accuracy: 0.2477\n",
      "Epoch 10/150\n",
      "235/235 [==============================] - 2s 6ms/step - loss: 0.0155 - mse: 0.0155 - accuracy: 0.2534 - val_loss: 0.0148 - val_mse: 0.0148 - val_accuracy: 0.2517\n",
      "Epoch 11/150\n",
      "235/235 [==============================] - 2s 6ms/step - loss: 0.0150 - mse: 0.0150 - accuracy: 0.2564 - val_loss: 0.0146 - val_mse: 0.0146 - val_accuracy: 0.2566\n",
      "Epoch 12/150\n",
      "235/235 [==============================] - 1s 6ms/step - loss: 0.0144 - mse: 0.0144 - accuracy: 0.2593 - val_loss: 0.0139 - val_mse: 0.0139 - val_accuracy: 0.2558\n",
      "Epoch 13/150\n",
      "235/235 [==============================] - 1s 6ms/step - loss: 0.0139 - mse: 0.0139 - accuracy: 0.2619 - val_loss: 0.0135 - val_mse: 0.0135 - val_accuracy: 0.2579\n",
      "Epoch 14/150\n",
      "235/235 [==============================] - 1s 6ms/step - loss: 0.0134 - mse: 0.0134 - accuracy: 0.2641 - val_loss: 0.0130 - val_mse: 0.0130 - val_accuracy: 0.2595\n",
      "Epoch 15/150\n",
      "235/235 [==============================] - 1s 6ms/step - loss: 0.0130 - mse: 0.0130 - accuracy: 0.2665 - val_loss: 0.0126 - val_mse: 0.0126 - val_accuracy: 0.2633\n",
      "Epoch 16/150\n",
      "235/235 [==============================] - 1s 6ms/step - loss: 0.0127 - mse: 0.0127 - accuracy: 0.2683 - val_loss: 0.0123 - val_mse: 0.0123 - val_accuracy: 0.2620\n",
      "Epoch 17/150\n",
      "235/235 [==============================] - 1s 6ms/step - loss: 0.0123 - mse: 0.0123 - accuracy: 0.2702 - val_loss: 0.0121 - val_mse: 0.0121 - val_accuracy: 0.2654\n",
      "Epoch 18/150\n",
      "235/235 [==============================] - 1s 6ms/step - loss: 0.0120 - mse: 0.0120 - accuracy: 0.2717 - val_loss: 0.0116 - val_mse: 0.0116 - val_accuracy: 0.2684\n",
      "Epoch 19/150\n",
      "235/235 [==============================] - 1s 6ms/step - loss: 0.0117 - mse: 0.0117 - accuracy: 0.2732 - val_loss: 0.0114 - val_mse: 0.0114 - val_accuracy: 0.2692\n",
      "Epoch 20/150\n",
      "235/235 [==============================] - 1s 6ms/step - loss: 0.0114 - mse: 0.0114 - accuracy: 0.2753 - val_loss: 0.0110 - val_mse: 0.0110 - val_accuracy: 0.2705\n",
      "Epoch 21/150\n",
      "235/235 [==============================] - 2s 7ms/step - loss: 0.0111 - mse: 0.0111 - accuracy: 0.2771 - val_loss: 0.0108 - val_mse: 0.0108 - val_accuracy: 0.2727\n",
      "Epoch 22/150\n",
      "235/235 [==============================] - 2s 6ms/step - loss: 0.0108 - mse: 0.0108 - accuracy: 0.2782 - val_loss: 0.0107 - val_mse: 0.0107 - val_accuracy: 0.2746\n",
      "Epoch 23/150\n",
      "235/235 [==============================] - 1s 6ms/step - loss: 0.0106 - mse: 0.0106 - accuracy: 0.2798 - val_loss: 0.0104 - val_mse: 0.0104 - val_accuracy: 0.2715\n",
      "Epoch 24/150\n",
      "235/235 [==============================] - 1s 6ms/step - loss: 0.0104 - mse: 0.0104 - accuracy: 0.2810 - val_loss: 0.0103 - val_mse: 0.0103 - val_accuracy: 0.2727\n",
      "Epoch 25/150\n",
      "235/235 [==============================] - 1s 6ms/step - loss: 0.0102 - mse: 0.0102 - accuracy: 0.2830 - val_loss: 0.0100 - val_mse: 0.0100 - val_accuracy: 0.2759\n",
      "Epoch 26/150\n",
      "235/235 [==============================] - 1s 6ms/step - loss: 0.0100 - mse: 0.0100 - accuracy: 0.2847 - val_loss: 0.0098 - val_mse: 0.0098 - val_accuracy: 0.2808\n",
      "Epoch 27/150\n",
      "235/235 [==============================] - 1s 6ms/step - loss: 0.0099 - mse: 0.0099 - accuracy: 0.2857 - val_loss: 0.0097 - val_mse: 0.0097 - val_accuracy: 0.2821\n",
      "Epoch 28/150\n",
      "235/235 [==============================] - 1s 6ms/step - loss: 0.0097 - mse: 0.0097 - accuracy: 0.2873 - val_loss: 0.0095 - val_mse: 0.0095 - val_accuracy: 0.2823\n",
      "Epoch 29/150\n",
      "235/235 [==============================] - 1s 6ms/step - loss: 0.0096 - mse: 0.0096 - accuracy: 0.2885 - val_loss: 0.0094 - val_mse: 0.0094 - val_accuracy: 0.2794\n",
      "Epoch 30/150\n",
      "235/235 [==============================] - 1s 6ms/step - loss: 0.0095 - mse: 0.0095 - accuracy: 0.2896 - val_loss: 0.0093 - val_mse: 0.0093 - val_accuracy: 0.2874\n",
      "Epoch 31/150\n",
      "235/235 [==============================] - 2s 6ms/step - loss: 0.0093 - mse: 0.0093 - accuracy: 0.2907 - val_loss: 0.0092 - val_mse: 0.0092 - val_accuracy: 0.2828\n",
      "Epoch 32/150\n",
      "235/235 [==============================] - 2s 7ms/step - loss: 0.0092 - mse: 0.0092 - accuracy: 0.2915 - val_loss: 0.0091 - val_mse: 0.0091 - val_accuracy: 0.2901\n",
      "Epoch 33/150\n",
      "235/235 [==============================] - 2s 6ms/step - loss: 0.0091 - mse: 0.0091 - accuracy: 0.2925 - val_loss: 0.0090 - val_mse: 0.0090 - val_accuracy: 0.2830\n",
      "Epoch 34/150\n",
      "235/235 [==============================] - 2s 6ms/step - loss: 0.0090 - mse: 0.0090 - accuracy: 0.2936 - val_loss: 0.0090 - val_mse: 0.0090 - val_accuracy: 0.2832\n",
      "Epoch 35/150\n",
      "235/235 [==============================] - 2s 6ms/step - loss: 0.0089 - mse: 0.0089 - accuracy: 0.2936 - val_loss: 0.0088 - val_mse: 0.0088 - val_accuracy: 0.2873\n",
      "Epoch 36/150\n",
      "235/235 [==============================] - 2s 6ms/step - loss: 0.0088 - mse: 0.0088 - accuracy: 0.2946 - val_loss: 0.0088 - val_mse: 0.0088 - val_accuracy: 0.2931\n",
      "Epoch 37/150\n",
      "235/235 [==============================] - 1s 6ms/step - loss: 0.0087 - mse: 0.0087 - accuracy: 0.2960 - val_loss: 0.0087 - val_mse: 0.0087 - val_accuracy: 0.2859\n",
      "Epoch 38/150\n",
      "235/235 [==============================] - 1s 6ms/step - loss: 0.0086 - mse: 0.0086 - accuracy: 0.2964 - val_loss: 0.0086 - val_mse: 0.0086 - val_accuracy: 0.2868\n",
      "Epoch 39/150\n",
      "235/235 [==============================] - 1s 6ms/step - loss: 0.0086 - mse: 0.0086 - accuracy: 0.2967 - val_loss: 0.0085 - val_mse: 0.0085 - val_accuracy: 0.2903\n",
      "Epoch 40/150\n",
      "235/235 [==============================] - 1s 6ms/step - loss: 0.0085 - mse: 0.0085 - accuracy: 0.2972 - val_loss: 0.0084 - val_mse: 0.0084 - val_accuracy: 0.2908\n",
      "Epoch 41/150\n",
      "235/235 [==============================] - 1s 6ms/step - loss: 0.0084 - mse: 0.0084 - accuracy: 0.2979 - val_loss: 0.0083 - val_mse: 0.0083 - val_accuracy: 0.2896\n",
      "Epoch 42/150\n",
      "235/235 [==============================] - 2s 6ms/step - loss: 0.0083 - mse: 0.0083 - accuracy: 0.2984 - val_loss: 0.0085 - val_mse: 0.0085 - val_accuracy: 0.2926\n",
      "Epoch 43/150\n",
      "235/235 [==============================] - 2s 7ms/step - loss: 0.0083 - mse: 0.0083 - accuracy: 0.2991 - val_loss: 0.0082 - val_mse: 0.0082 - val_accuracy: 0.2923\n",
      "Epoch 44/150\n",
      "235/235 [==============================] - 1s 6ms/step - loss: 0.0082 - mse: 0.0082 - accuracy: 0.2995 - val_loss: 0.0083 - val_mse: 0.0083 - val_accuracy: 0.2955\n",
      "Epoch 45/150\n",
      "235/235 [==============================] - 1s 6ms/step - loss: 0.0082 - mse: 0.0082 - accuracy: 0.3000 - val_loss: 0.0082 - val_mse: 0.0082 - val_accuracy: 0.2946\n",
      "Epoch 46/150\n",
      "235/235 [==============================] - 2s 6ms/step - loss: 0.0081 - mse: 0.0081 - accuracy: 0.3002 - val_loss: 0.0081 - val_mse: 0.0081 - val_accuracy: 0.2933\n",
      "Epoch 47/150\n",
      "235/235 [==============================] - 1s 6ms/step - loss: 0.0080 - mse: 0.0080 - accuracy: 0.3008 - val_loss: 0.0081 - val_mse: 0.0081 - val_accuracy: 0.2969\n",
      "Epoch 48/150\n",
      "235/235 [==============================] - 1s 6ms/step - loss: 0.0080 - mse: 0.0080 - accuracy: 0.3010 - val_loss: 0.0079 - val_mse: 0.0079 - val_accuracy: 0.2944\n",
      "Epoch 49/150\n",
      "235/235 [==============================] - 1s 6ms/step - loss: 0.0079 - mse: 0.0079 - accuracy: 0.3010 - val_loss: 0.0080 - val_mse: 0.0080 - val_accuracy: 0.2929\n",
      "Epoch 50/150\n",
      "235/235 [==============================] - 1s 6ms/step - loss: 0.0079 - mse: 0.0079 - accuracy: 0.3009 - val_loss: 0.0078 - val_mse: 0.0078 - val_accuracy: 0.2873\n",
      "Epoch 51/150\n",
      "235/235 [==============================] - 1s 6ms/step - loss: 0.0078 - mse: 0.0078 - accuracy: 0.2999 - val_loss: 0.0079 - val_mse: 0.0079 - val_accuracy: 0.2935\n",
      "Epoch 52/150\n",
      "235/235 [==============================] - 1s 6ms/step - loss: 0.0078 - mse: 0.0078 - accuracy: 0.3041 - val_loss: 0.0078 - val_mse: 0.0078 - val_accuracy: 0.2993\n",
      "Epoch 53/150\n",
      "235/235 [==============================] - 2s 6ms/step - loss: 0.0077 - mse: 0.0077 - accuracy: 0.3048 - val_loss: 0.0077 - val_mse: 0.0077 - val_accuracy: 0.2985\n",
      "Epoch 54/150\n",
      "235/235 [==============================] - 2s 6ms/step - loss: 0.0077 - mse: 0.0077 - accuracy: 0.3052 - val_loss: 0.0077 - val_mse: 0.0077 - val_accuracy: 0.2969\n",
      "Epoch 55/150\n",
      "235/235 [==============================] - 2s 6ms/step - loss: 0.0076 - mse: 0.0076 - accuracy: 0.3051 - val_loss: 0.0076 - val_mse: 0.0076 - val_accuracy: 0.2972\n",
      "Epoch 56/150\n",
      "235/235 [==============================] - 1s 6ms/step - loss: 0.0076 - mse: 0.0076 - accuracy: 0.3056 - val_loss: 0.0076 - val_mse: 0.0076 - val_accuracy: 0.2984\n",
      "Epoch 57/150\n",
      "235/235 [==============================] - 2s 6ms/step - loss: 0.0075 - mse: 0.0075 - accuracy: 0.3051 - val_loss: 0.0075 - val_mse: 0.0075 - val_accuracy: 0.2953\n",
      "Epoch 58/150\n",
      "235/235 [==============================] - 2s 6ms/step - loss: 0.0075 - mse: 0.0075 - accuracy: 0.3065 - val_loss: 0.0077 - val_mse: 0.0077 - val_accuracy: 0.2985\n",
      "Epoch 59/150\n",
      "235/235 [==============================] - 2s 6ms/step - loss: 0.0075 - mse: 0.0075 - accuracy: 0.3065 - val_loss: 0.0076 - val_mse: 0.0076 - val_accuracy: 0.2975\n",
      "Epoch 60/150\n",
      "235/235 [==============================] - 2s 6ms/step - loss: 0.0074 - mse: 0.0074 - accuracy: 0.3071 - val_loss: 0.0075 - val_mse: 0.0075 - val_accuracy: 0.2977\n",
      "Epoch 61/150\n",
      "235/235 [==============================] - 2s 6ms/step - loss: 0.0074 - mse: 0.0074 - accuracy: 0.3074 - val_loss: 0.0074 - val_mse: 0.0074 - val_accuracy: 0.2992\n",
      "Epoch 62/150\n",
      "235/235 [==============================] - 2s 7ms/step - loss: 0.0074 - mse: 0.0074 - accuracy: 0.3073 - val_loss: 0.0074 - val_mse: 0.0074 - val_accuracy: 0.3008\n",
      "Epoch 63/150\n",
      "235/235 [==============================] - 2s 7ms/step - loss: 0.0073 - mse: 0.0073 - accuracy: 0.3073 - val_loss: 0.0074 - val_mse: 0.0074 - val_accuracy: 0.2976\n",
      "Epoch 64/150\n",
      "235/235 [==============================] - 2s 7ms/step - loss: 0.0073 - mse: 0.0073 - accuracy: 0.3081 - val_loss: 0.0074 - val_mse: 0.0074 - val_accuracy: 0.3018\n",
      "Epoch 65/150\n",
      "235/235 [==============================] - 2s 7ms/step - loss: 0.0073 - mse: 0.0073 - accuracy: 0.3068 - val_loss: 0.0073 - val_mse: 0.0073 - val_accuracy: 0.3017\n",
      "Epoch 66/150\n",
      "235/235 [==============================] - 2s 7ms/step - loss: 0.0073 - mse: 0.0073 - accuracy: 0.3073 - val_loss: 0.0073 - val_mse: 0.0073 - val_accuracy: 0.2994\n",
      "Epoch 67/150\n",
      "235/235 [==============================] - 2s 7ms/step - loss: 0.0072 - mse: 0.0072 - accuracy: 0.3071 - val_loss: 0.0074 - val_mse: 0.0074 - val_accuracy: 0.2992\n",
      "Epoch 68/150\n",
      "235/235 [==============================] - 2s 7ms/step - loss: 0.0072 - mse: 0.0072 - accuracy: 0.3075 - val_loss: 0.0073 - val_mse: 0.0073 - val_accuracy: 0.2987\n",
      "Epoch 69/150\n",
      "235/235 [==============================] - 2s 7ms/step - loss: 0.0072 - mse: 0.0072 - accuracy: 0.3082 - val_loss: 0.0073 - val_mse: 0.0073 - val_accuracy: 0.3045\n",
      "Epoch 70/150\n",
      "235/235 [==============================] - 2s 7ms/step - loss: 0.0072 - mse: 0.0072 - accuracy: 0.3081 - val_loss: 0.0073 - val_mse: 0.0073 - val_accuracy: 0.3022\n",
      "Epoch 71/150\n",
      "235/235 [==============================] - 2s 6ms/step - loss: 0.0071 - mse: 0.0071 - accuracy: 0.3084 - val_loss: 0.0072 - val_mse: 0.0072 - val_accuracy: 0.3020\n",
      "Epoch 72/150\n",
      "235/235 [==============================] - 2s 7ms/step - loss: 0.0071 - mse: 0.0071 - accuracy: 0.3085 - val_loss: 0.0072 - val_mse: 0.0072 - val_accuracy: 0.2975\n",
      "Epoch 73/150\n",
      "235/235 [==============================] - 2s 7ms/step - loss: 0.0071 - mse: 0.0071 - accuracy: 0.3085 - val_loss: 0.0072 - val_mse: 0.0072 - val_accuracy: 0.2968\n",
      "Epoch 74/150\n",
      "235/235 [==============================] - 2s 7ms/step - loss: 0.0071 - mse: 0.0071 - accuracy: 0.3089 - val_loss: 0.0071 - val_mse: 0.0071 - val_accuracy: 0.3050\n",
      "Epoch 75/150\n",
      "235/235 [==============================] - 2s 6ms/step - loss: 0.0071 - mse: 0.0071 - accuracy: 0.3094 - val_loss: 0.0071 - val_mse: 0.0071 - val_accuracy: 0.3030\n",
      "Epoch 76/150\n",
      "235/235 [==============================] - 2s 7ms/step - loss: 0.0070 - mse: 0.0070 - accuracy: 0.3095 - val_loss: 0.0071 - val_mse: 0.0071 - val_accuracy: 0.3024\n",
      "Epoch 77/150\n",
      "235/235 [==============================] - 2s 7ms/step - loss: 0.0070 - mse: 0.0070 - accuracy: 0.3097 - val_loss: 0.0071 - val_mse: 0.0071 - val_accuracy: 0.2977\n",
      "Epoch 78/150\n",
      "235/235 [==============================] - 2s 7ms/step - loss: 0.0070 - mse: 0.0070 - accuracy: 0.3095 - val_loss: 0.0072 - val_mse: 0.0072 - val_accuracy: 0.3045\n",
      "Epoch 79/150\n",
      "235/235 [==============================] - 2s 6ms/step - loss: 0.0070 - mse: 0.0070 - accuracy: 0.3098 - val_loss: 0.0071 - val_mse: 0.0071 - val_accuracy: 0.3031\n",
      "Epoch 80/150\n",
      "235/235 [==============================] - 2s 6ms/step - loss: 0.0069 - mse: 0.0069 - accuracy: 0.3097 - val_loss: 0.0070 - val_mse: 0.0070 - val_accuracy: 0.3005\n",
      "Epoch 81/150\n",
      "235/235 [==============================] - 2s 7ms/step - loss: 0.0069 - mse: 0.0069 - accuracy: 0.3101 - val_loss: 0.0071 - val_mse: 0.0071 - val_accuracy: 0.3009\n",
      "Epoch 82/150\n",
      "235/235 [==============================] - 2s 7ms/step - loss: 0.0069 - mse: 0.0069 - accuracy: 0.3101 - val_loss: 0.0071 - val_mse: 0.0071 - val_accuracy: 0.3044\n",
      "Epoch 83/150\n",
      "235/235 [==============================] - 2s 6ms/step - loss: 0.0069 - mse: 0.0069 - accuracy: 0.3108 - val_loss: 0.0071 - val_mse: 0.0071 - val_accuracy: 0.2994\n",
      "Epoch 84/150\n",
      "235/235 [==============================] - 2s 7ms/step - loss: 0.0069 - mse: 0.0069 - accuracy: 0.3108 - val_loss: 0.0070 - val_mse: 0.0070 - val_accuracy: 0.3032\n",
      "Epoch 85/150\n",
      "235/235 [==============================] - 2s 7ms/step - loss: 0.0069 - mse: 0.0069 - accuracy: 0.3123 - val_loss: 0.0069 - val_mse: 0.0069 - val_accuracy: 0.3037\n",
      "Epoch 86/150\n",
      "235/235 [==============================] - 2s 7ms/step - loss: 0.0069 - mse: 0.0069 - accuracy: 0.3118 - val_loss: 0.0071 - val_mse: 0.0071 - val_accuracy: 0.2978\n",
      "Epoch 87/150\n",
      "235/235 [==============================] - 2s 7ms/step - loss: 0.0068 - mse: 0.0068 - accuracy: 0.3119 - val_loss: 0.0070 - val_mse: 0.0070 - val_accuracy: 0.3107\n",
      "Epoch 88/150\n",
      "235/235 [==============================] - 2s 6ms/step - loss: 0.0068 - mse: 0.0068 - accuracy: 0.3122 - val_loss: 0.0069 - val_mse: 0.0069 - val_accuracy: 0.3035\n",
      "Epoch 89/150\n",
      "235/235 [==============================] - 2s 7ms/step - loss: 0.0068 - mse: 0.0068 - accuracy: 0.3125 - val_loss: 0.0070 - val_mse: 0.0070 - val_accuracy: 0.3024\n",
      "Epoch 90/150\n",
      "235/235 [==============================] - 2s 6ms/step - loss: 0.0068 - mse: 0.0068 - accuracy: 0.3132 - val_loss: 0.0069 - val_mse: 0.0069 - val_accuracy: 0.3071\n",
      "Epoch 91/150\n",
      "235/235 [==============================] - 2s 7ms/step - loss: 0.0067 - mse: 0.0067 - accuracy: 0.3136 - val_loss: 0.0069 - val_mse: 0.0069 - val_accuracy: 0.3006\n",
      "Epoch 92/150\n",
      "235/235 [==============================] - 2s 6ms/step - loss: 0.0067 - mse: 0.0067 - accuracy: 0.3135 - val_loss: 0.0070 - val_mse: 0.0070 - val_accuracy: 0.3076\n",
      "Epoch 93/150\n"
     ]
    },
    {
     "name": "stdout",
     "output_type": "stream",
     "text": [
      "235/235 [==============================] - 2s 6ms/step - loss: 0.0067 - mse: 0.0067 - accuracy: 0.3133 - val_loss: 0.0068 - val_mse: 0.0068 - val_accuracy: 0.3076\n",
      "Epoch 94/150\n",
      "235/235 [==============================] - 2s 7ms/step - loss: 0.0067 - mse: 0.0067 - accuracy: 0.3144 - val_loss: 0.0068 - val_mse: 0.0068 - val_accuracy: 0.3071\n",
      "Epoch 95/150\n",
      "235/235 [==============================] - 2s 7ms/step - loss: 0.0067 - mse: 0.0067 - accuracy: 0.3143 - val_loss: 0.0068 - val_mse: 0.0068 - val_accuracy: 0.3060\n",
      "Epoch 96/150\n",
      "235/235 [==============================] - 2s 7ms/step - loss: 0.0067 - mse: 0.0067 - accuracy: 0.3144 - val_loss: 0.0068 - val_mse: 0.0068 - val_accuracy: 0.3092\n",
      "Epoch 97/150\n",
      "235/235 [==============================] - 2s 6ms/step - loss: 0.0066 - mse: 0.0066 - accuracy: 0.3147 - val_loss: 0.0068 - val_mse: 0.0068 - val_accuracy: 0.3119\n",
      "Epoch 98/150\n",
      "235/235 [==============================] - 2s 6ms/step - loss: 0.0066 - mse: 0.0066 - accuracy: 0.3148 - val_loss: 0.0069 - val_mse: 0.0069 - val_accuracy: 0.2998\n",
      "Epoch 99/150\n",
      "235/235 [==============================] - 2s 6ms/step - loss: 0.0066 - mse: 0.0066 - accuracy: 0.3152 - val_loss: 0.0067 - val_mse: 0.0067 - val_accuracy: 0.3108\n",
      "Epoch 100/150\n",
      "235/235 [==============================] - 2s 7ms/step - loss: 0.0066 - mse: 0.0066 - accuracy: 0.3149 - val_loss: 0.0067 - val_mse: 0.0067 - val_accuracy: 0.3062\n",
      "Epoch 101/150\n",
      "235/235 [==============================] - 2s 7ms/step - loss: 0.0066 - mse: 0.0066 - accuracy: 0.3151 - val_loss: 0.0068 - val_mse: 0.0068 - val_accuracy: 0.3077\n",
      "Epoch 102/150\n",
      "235/235 [==============================] - 2s 6ms/step - loss: 0.0065 - mse: 0.0065 - accuracy: 0.3154 - val_loss: 0.0067 - val_mse: 0.0067 - val_accuracy: 0.3054\n",
      "Epoch 103/150\n",
      "235/235 [==============================] - 2s 6ms/step - loss: 0.0065 - mse: 0.0065 - accuracy: 0.3157 - val_loss: 0.0066 - val_mse: 0.0066 - val_accuracy: 0.3073\n",
      "Epoch 104/150\n",
      "235/235 [==============================] - 2s 7ms/step - loss: 0.0065 - mse: 0.0065 - accuracy: 0.3157 - val_loss: 0.0066 - val_mse: 0.0066 - val_accuracy: 0.3059\n",
      "Epoch 105/150\n",
      "235/235 [==============================] - 2s 7ms/step - loss: 0.0065 - mse: 0.0065 - accuracy: 0.3160 - val_loss: 0.0066 - val_mse: 0.0066 - val_accuracy: 0.3057\n",
      "Epoch 106/150\n",
      "235/235 [==============================] - 2s 7ms/step - loss: 0.0065 - mse: 0.0065 - accuracy: 0.3160 - val_loss: 0.0066 - val_mse: 0.0066 - val_accuracy: 0.3087\n",
      "Epoch 107/150\n",
      "235/235 [==============================] - 2s 6ms/step - loss: 0.0065 - mse: 0.0065 - accuracy: 0.3162 - val_loss: 0.0066 - val_mse: 0.0066 - val_accuracy: 0.3058\n",
      "Epoch 108/150\n",
      "235/235 [==============================] - 2s 6ms/step - loss: 0.0065 - mse: 0.0065 - accuracy: 0.3163 - val_loss: 0.0067 - val_mse: 0.0067 - val_accuracy: 0.3090\n",
      "Epoch 109/150\n",
      "235/235 [==============================] - 2s 6ms/step - loss: 0.0064 - mse: 0.0064 - accuracy: 0.3159 - val_loss: 0.0066 - val_mse: 0.0066 - val_accuracy: 0.3065\n",
      "Epoch 110/150\n",
      "235/235 [==============================] - 2s 7ms/step - loss: 0.0064 - mse: 0.0064 - accuracy: 0.3164 - val_loss: 0.0067 - val_mse: 0.0067 - val_accuracy: 0.3092\n",
      "Epoch 111/150\n",
      "235/235 [==============================] - 2s 6ms/step - loss: 0.0064 - mse: 0.0064 - accuracy: 0.3168 - val_loss: 0.0065 - val_mse: 0.0065 - val_accuracy: 0.3094\n",
      "Epoch 112/150\n",
      "235/235 [==============================] - 2s 6ms/step - loss: 0.0064 - mse: 0.0064 - accuracy: 0.3169 - val_loss: 0.0066 - val_mse: 0.0066 - val_accuracy: 0.3067\n",
      "Epoch 113/150\n",
      "235/235 [==============================] - 2s 6ms/step - loss: 0.0064 - mse: 0.0064 - accuracy: 0.3169 - val_loss: 0.0065 - val_mse: 0.0065 - val_accuracy: 0.3105\n",
      "Epoch 114/150\n",
      "235/235 [==============================] - 2s 7ms/step - loss: 0.0063 - mse: 0.0063 - accuracy: 0.3167 - val_loss: 0.0066 - val_mse: 0.0066 - val_accuracy: 0.3024\n",
      "Epoch 115/150\n",
      "235/235 [==============================] - 2s 7ms/step - loss: 0.0063 - mse: 0.0063 - accuracy: 0.3165 - val_loss: 0.0065 - val_mse: 0.0065 - val_accuracy: 0.3066\n",
      "Epoch 116/150\n",
      "235/235 [==============================] - 2s 7ms/step - loss: 0.0063 - mse: 0.0063 - accuracy: 0.3170 - val_loss: 0.0064 - val_mse: 0.0064 - val_accuracy: 0.3108\n",
      "Epoch 117/150\n",
      "235/235 [==============================] - 2s 7ms/step - loss: 0.0063 - mse: 0.0063 - accuracy: 0.3177 - val_loss: 0.0065 - val_mse: 0.0065 - val_accuracy: 0.3053\n",
      "Epoch 118/150\n",
      "235/235 [==============================] - 2s 7ms/step - loss: 0.0063 - mse: 0.0063 - accuracy: 0.3177 - val_loss: 0.0063 - val_mse: 0.0063 - val_accuracy: 0.3088\n",
      "Epoch 119/150\n",
      "235/235 [==============================] - 2s 7ms/step - loss: 0.0062 - mse: 0.0062 - accuracy: 0.3177 - val_loss: 0.0065 - val_mse: 0.0065 - val_accuracy: 0.3092\n",
      "Epoch 120/150\n",
      "235/235 [==============================] - 2s 7ms/step - loss: 0.0062 - mse: 0.0062 - accuracy: 0.3184 - val_loss: 0.0064 - val_mse: 0.0064 - val_accuracy: 0.3061\n",
      "Epoch 121/150\n",
      "235/235 [==============================] - 2s 7ms/step - loss: 0.0062 - mse: 0.0062 - accuracy: 0.3181 - val_loss: 0.0065 - val_mse: 0.0065 - val_accuracy: 0.3055\n",
      "Epoch 122/150\n",
      "235/235 [==============================] - 2s 7ms/step - loss: 0.0062 - mse: 0.0062 - accuracy: 0.3183 - val_loss: 0.0063 - val_mse: 0.0063 - val_accuracy: 0.3118\n",
      "Epoch 123/150\n",
      "235/235 [==============================] - 2s 7ms/step - loss: 0.0062 - mse: 0.0062 - accuracy: 0.3189 - val_loss: 0.0064 - val_mse: 0.0064 - val_accuracy: 0.3061\n",
      "Epoch 124/150\n",
      "235/235 [==============================] - 2s 7ms/step - loss: 0.0062 - mse: 0.0062 - accuracy: 0.3184 - val_loss: 0.0063 - val_mse: 0.0063 - val_accuracy: 0.3133\n",
      "Epoch 125/150\n",
      "235/235 [==============================] - 2s 7ms/step - loss: 0.0062 - mse: 0.0062 - accuracy: 0.3191 - val_loss: 0.0064 - val_mse: 0.0064 - val_accuracy: 0.3090\n",
      "Epoch 126/150\n",
      "235/235 [==============================] - 2s 7ms/step - loss: 0.0061 - mse: 0.0061 - accuracy: 0.3191 - val_loss: 0.0063 - val_mse: 0.0063 - val_accuracy: 0.3061\n",
      "Epoch 127/150\n",
      "235/235 [==============================] - 2s 7ms/step - loss: 0.0061 - mse: 0.0061 - accuracy: 0.3194 - val_loss: 0.0063 - val_mse: 0.0063 - val_accuracy: 0.3095\n",
      "Epoch 128/150\n",
      "235/235 [==============================] - 2s 7ms/step - loss: 0.0061 - mse: 0.0061 - accuracy: 0.3193 - val_loss: 0.0062 - val_mse: 0.0062 - val_accuracy: 0.3092\n",
      "Epoch 129/150\n",
      "235/235 [==============================] - 2s 7ms/step - loss: 0.0061 - mse: 0.0061 - accuracy: 0.3196 - val_loss: 0.0064 - val_mse: 0.0064 - val_accuracy: 0.3110\n",
      "Epoch 130/150\n",
      "235/235 [==============================] - 2s 7ms/step - loss: 0.0061 - mse: 0.0061 - accuracy: 0.3195 - val_loss: 0.0062 - val_mse: 0.0062 - val_accuracy: 0.3117\n",
      "Epoch 131/150\n",
      "235/235 [==============================] - 2s 7ms/step - loss: 0.0061 - mse: 0.0061 - accuracy: 0.3196 - val_loss: 0.0063 - val_mse: 0.0063 - val_accuracy: 0.3104\n",
      "Epoch 132/150\n",
      "235/235 [==============================] - 2s 7ms/step - loss: 0.0061 - mse: 0.0061 - accuracy: 0.3197 - val_loss: 0.0063 - val_mse: 0.0063 - val_accuracy: 0.3107\n",
      "Epoch 133/150\n",
      "235/235 [==============================] - 2s 7ms/step - loss: 0.0061 - mse: 0.0061 - accuracy: 0.3198 - val_loss: 0.0063 - val_mse: 0.0063 - val_accuracy: 0.3073\n",
      "Epoch 134/150\n",
      "235/235 [==============================] - 2s 7ms/step - loss: 0.0061 - mse: 0.0061 - accuracy: 0.3201 - val_loss: 0.0063 - val_mse: 0.0063 - val_accuracy: 0.3096\n",
      "Epoch 135/150\n",
      "235/235 [==============================] - 2s 7ms/step - loss: 0.0060 - mse: 0.0060 - accuracy: 0.3204 - val_loss: 0.0063 - val_mse: 0.0063 - val_accuracy: 0.3152\n",
      "Epoch 136/150\n",
      "235/235 [==============================] - 2s 7ms/step - loss: 0.0060 - mse: 0.0060 - accuracy: 0.3203 - val_loss: 0.0063 - val_mse: 0.0063 - val_accuracy: 0.3118\n",
      "Epoch 137/150\n",
      "235/235 [==============================] - 2s 7ms/step - loss: 0.0060 - mse: 0.0060 - accuracy: 0.3206 - val_loss: 0.0062 - val_mse: 0.0062 - val_accuracy: 0.3142\n",
      "Epoch 138/150\n",
      "235/235 [==============================] - 2s 7ms/step - loss: 0.0060 - mse: 0.0060 - accuracy: 0.3212 - val_loss: 0.0062 - val_mse: 0.0062 - val_accuracy: 0.3152\n",
      "Epoch 139/150\n",
      "235/235 [==============================] - 2s 7ms/step - loss: 0.0060 - mse: 0.0060 - accuracy: 0.3220 - val_loss: 0.0062 - val_mse: 0.0062 - val_accuracy: 0.3104\n",
      "Epoch 140/150\n",
      "235/235 [==============================] - 2s 7ms/step - loss: 0.0060 - mse: 0.0060 - accuracy: 0.3217 - val_loss: 0.0062 - val_mse: 0.0062 - val_accuracy: 0.3122\n",
      "Epoch 141/150\n",
      "235/235 [==============================] - 2s 7ms/step - loss: 0.0060 - mse: 0.0060 - accuracy: 0.3222 - val_loss: 0.0062 - val_mse: 0.0062 - val_accuracy: 0.3099\n",
      "Epoch 142/150\n",
      "235/235 [==============================] - 2s 7ms/step - loss: 0.0060 - mse: 0.0060 - accuracy: 0.3223 - val_loss: 0.0062 - val_mse: 0.0062 - val_accuracy: 0.3164\n",
      "Epoch 143/150\n",
      "235/235 [==============================] - 2s 7ms/step - loss: 0.0060 - mse: 0.0060 - accuracy: 0.3223 - val_loss: 0.0062 - val_mse: 0.0062 - val_accuracy: 0.3129\n",
      "Epoch 144/150\n",
      "235/235 [==============================] - 2s 6ms/step - loss: 0.0060 - mse: 0.0060 - accuracy: 0.3226 - val_loss: 0.0062 - val_mse: 0.0062 - val_accuracy: 0.3099\n",
      "Epoch 145/150\n",
      "235/235 [==============================] - 2s 7ms/step - loss: 0.0060 - mse: 0.0060 - accuracy: 0.3224 - val_loss: 0.0061 - val_mse: 0.0061 - val_accuracy: 0.3103\n",
      "Epoch 146/150\n",
      "235/235 [==============================] - 2s 7ms/step - loss: 0.0060 - mse: 0.0060 - accuracy: 0.3223 - val_loss: 0.0061 - val_mse: 0.0061 - val_accuracy: 0.3130\n",
      "Epoch 147/150\n",
      "235/235 [==============================] - 2s 7ms/step - loss: 0.0059 - mse: 0.0059 - accuracy: 0.3223 - val_loss: 0.0062 - val_mse: 0.0062 - val_accuracy: 0.3139\n",
      "Epoch 148/150\n",
      "235/235 [==============================] - 2s 7ms/step - loss: 0.0059 - mse: 0.0059 - accuracy: 0.3220 - val_loss: 0.0062 - val_mse: 0.0062 - val_accuracy: 0.3139\n",
      "Epoch 149/150\n",
      "235/235 [==============================] - 2s 6ms/step - loss: 0.0059 - mse: 0.0059 - accuracy: 0.3226 - val_loss: 0.0061 - val_mse: 0.0061 - val_accuracy: 0.3127\n",
      "Epoch 150/150\n",
      "235/235 [==============================] - 2s 6ms/step - loss: 0.0059 - mse: 0.0059 - accuracy: 0.3228 - val_loss: 0.0061 - val_mse: 0.0061 - val_accuracy: 0.3133\n"
     ]
    }
   ],
   "source": [
    "autoencoder.compile(optimizer='adam',\n",
    "                   loss='binary_crossentropy',\n",
    "                   metrics=['accuracy'])\n",
    "\n",
    "model_path=\"./\"\n",
    "\n",
    "#acc도 포함된 결과를 나타내기위해 acc추가\n",
    "autoencoder.compile(loss='mse', optimizer='adam', metrics=['mse', 'accuracy'])\n",
    "history= autoencoder.fit(x_train, x_train,\n",
    "                        epochs=150,\n",
    "                        batch_size=256,\n",
    "                        validation_data=(x_test, x_test)\n",
    "                         )"
   ]
  },
  {
   "cell_type": "code",
   "execution_count": 150,
   "id": "fc85314e",
   "metadata": {},
   "outputs": [
    {
     "name": "stdout",
     "output_type": "stream",
     "text": [
      "You must install pydot (`pip install pydot`) and install graphviz (see instructions at https://graphviz.gitlab.io/download/) for plot_model to work.\n",
      "100/100 - 0s - loss: 0.0061 - mse: 0.0061 - accuracy: 0.3133 - 239ms/epoch - 2ms/step\n",
      "Test Loss: 0.006107088644057512, Test MSE: 0.006107089575380087, Test Accuracy: 0.3132892847061157\n"
     ]
    }
   ],
   "source": [
    "from tensorflow.keras.utils import plot_model\n",
    "\n",
    "plot_model(autoencoder, show_shapes=True)\n",
    "\n",
    "#accc\n",
    "test_loss, test_mse, test_acc = autoencoder.evaluate(x_test, x_test, batch_size=100, verbose=2)\n",
    "print(f'Test Loss: {test_loss}, Test MSE: {test_mse}, Test Accuracy: {test_acc}')\n"
   ]
  },
  {
   "cell_type": "code",
   "execution_count": 151,
   "id": "6ce5ec13",
   "metadata": {},
   "outputs": [
    {
     "name": "stdout",
     "output_type": "stream",
     "text": [
      "313/313 [==============================] - 0s 987us/step\n",
      "313/313 [==============================] - 0s 976us/step\n"
     ]
    }
   ],
   "source": [
    "encoded_imgs = autoencoder.encoder.predict(x_test)\n",
    "decoded_imgs = autoencoder.decoder.predict(encoded_imgs)"
   ]
  },
  {
   "cell_type": "code",
   "execution_count": 18,
   "id": "53adbc61",
   "metadata": {},
   "outputs": [
    {
     "name": "stdout",
     "output_type": "stream",
     "text": [
      "Collecting matplotlib\n",
      "  Using cached matplotlib-3.5.3-cp37-cp37m-win_amd64.whl (7.2 MB)\n",
      "Collecting cycler>=0.10\n",
      "  Using cached cycler-0.11.0-py3-none-any.whl (6.4 kB)\n",
      "Requirement already satisfied: python-dateutil>=2.7 in d:\\anaconda3\\envs\\py37\\lib\\site-packages (from matplotlib) (2.8.2)\n",
      "Collecting pillow>=6.2.0\n",
      "  Using cached Pillow-9.5.0-cp37-cp37m-win_amd64.whl (2.5 MB)\n",
      "Collecting fonttools>=4.22.0\n",
      "  Using cached fonttools-4.38.0-py3-none-any.whl (965 kB)\n",
      "Collecting pyparsing>=2.2.1\n",
      "  Using cached pyparsing-3.1.1-py3-none-any.whl (103 kB)\n",
      "Collecting kiwisolver>=1.0.1\n",
      "  Using cached kiwisolver-1.4.5-cp37-cp37m-win_amd64.whl (55 kB)\n",
      "Requirement already satisfied: numpy>=1.17 in d:\\anaconda3\\envs\\py37\\lib\\site-packages (from matplotlib) (1.21.6)\n",
      "Requirement already satisfied: packaging>=20.0 in d:\\anaconda3\\envs\\py37\\lib\\site-packages (from matplotlib) (23.2)\n",
      "Requirement already satisfied: typing-extensions in d:\\anaconda3\\envs\\py37\\lib\\site-packages (from kiwisolver>=1.0.1->matplotlib) (4.7.1)\n",
      "Requirement already satisfied: six>=1.5 in d:\\anaconda3\\envs\\py37\\lib\\site-packages (from python-dateutil>=2.7->matplotlib) (1.16.0)\n",
      "Installing collected packages: pyparsing, pillow, kiwisolver, fonttools, cycler, matplotlib\n",
      "Successfully installed cycler-0.11.0 fonttools-4.38.0 kiwisolver-1.4.5 matplotlib-3.5.3 pillow-9.5.0 pyparsing-3.1.1\n",
      "Note: you may need to restart the kernel to use updated packages.\n"
     ]
    }
   ],
   "source": [
    "pip install matplotlib"
   ]
  },
  {
   "cell_type": "code",
   "execution_count": 152,
   "id": "f9e1a0f6",
   "metadata": {},
   "outputs": [
    {
     "data": {
      "text/plain": [
       "<function matplotlib.pyplot.show(close=None, block=None)>"
      ]
     },
     "execution_count": 152,
     "metadata": {},
     "output_type": "execute_result"
    },
    {
     "data": {
      "image/png": "[encoded data removed]",
      "text/plain": [
       "<Figure size 640x480 with 1 Axes>"
      ]
     },
     "metadata": {},
     "output_type": "display_data"
    }
   ],
   "source": [
    "import matplotlib.pyplot as plt\n",
    "\n",
    "digit = train_images[0]\n",
    "plt.imshow(digit, cmap=plt.cm.binary)\n",
    "plt.show"
   ]
  },
  {
   "cell_type": "code",
   "execution_count": 153,
   "id": "f3f70934",
   "metadata": {
    "scrolled": true
   },
   "outputs": [
    {
     "data": {
      "image/png": "[encoded data removed]",
      "text/plain": [
       "<Figure size 2000x400 with 10 Axes>"
      ]
     },
     "metadata": {},
     "output_type": "display_data"
    }
   ],
   "source": [
    "n=5\n",
    "plt.figure(figsize=(20,4))\n",
    "for i in range(n):\n",
    "    #원본\n",
    "    ax=plt.subplot(2, n, i + 1)\n",
    "    plt.imshow(x_test[i].reshape(28,28))\n",
    "    \n",
    "    plt.gray()\n",
    "    ax.get_xaxis().set_visible(False)\n",
    "    ax.get_yaxis().set_visible(False)\n",
    "    \n",
    "    #모델\n",
    "    ax=plt.subplot(2, n, i + 1+n)\n",
    "    plt.imshow(decoded_imgs[i].reshape(28,28))\n",
    "    plt.gray()\n",
    "    ax.get_xaxis().set_visible(False)\n",
    "    ax.get_yaxis().set_visible(False)\n",
    "plt.show()"
   ]
  },
  {
   "cell_type": "code",
   "execution_count": 156,
   "id": "152c1277",
   "metadata": {},
   "outputs": [
    {
     "data": {
      "image/png": "[encoded data removed]",
      "text/plain": [
       "<Figure size 640x480 with 1 Axes>"
      ]
     },
     "metadata": {},
     "output_type": "display_data"
    }
   ],
   "source": [
    "#모델의 loss값(mse)값 그래프 시각화\n",
    "plt.plot(history.history['loss'], label='Loss')\n",
    "plt.plot(history.history['val_loss'], label='val_loss')\n",
    "plt.xlabel(\"Epoch\")\n",
    "plt.ylabel(\"\")\n",
    "plt.legend()\n",
    "plt.show()"
   ]
  },
  {
   "cell_type": "code",
   "execution_count": 157,
   "id": "420ea178",
   "metadata": {},
   "outputs": [
    {
     "data": {
      "image/png": "[encoded data removed]",
      "text/plain": [
       "<Figure size 640x480 with 1 Axes>"
      ]
     },
     "metadata": {},
     "output_type": "display_data"
    }
   ],
   "source": [
    "\n",
    "plt.plot(history.history['accuracy'], label='Accuracy')\n",
    "plt.plot(history.history['val_accuracy'], label='val_accuracy')\n",
    "plt.xlabel(\"Epoch\")\n",
    "plt.ylabel(\"\")\n",
    "plt.legend()\n",
    "plt.show()"
   ]
  },
  {
   "cell_type": "code",
   "execution_count": null,
   "id": "fb174f80",
   "metadata": {},
   "outputs": [],
   "source": []
  }
 ],
 "metadata": {
  "kernelspec": {
   "display_name": "Python 3 (ipykernel)",
   "language": "python",
   "name": "python3"
  },
  "language_info": {
   "codemirror_mode": {
    "name": "ipython",
    "version": 3
   },
   "file_extension": ".py",
   "mimetype": "text/x-python",
   "name": "python",
   "nbconvert_exporter": "python",
   "pygments_lexer": "ipython3",
   "version": "3.7.16"
  }
 },
 "nbformat": 4,
 "nbformat_minor": 5
}
